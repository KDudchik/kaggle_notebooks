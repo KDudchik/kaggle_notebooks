{
 "cells": [
  {
   "cell_type": "raw",
   "id": "b80c6833",
   "metadata": {
    "execution": {
     "iopub.execute_input": "2023-10-15T15:32:51.676669Z",
     "iopub.status.busy": "2023-10-15T15:32:51.675798Z",
     "iopub.status.idle": "2023-10-15T15:32:51.680867Z",
     "shell.execute_reply": "2023-10-15T15:32:51.679951Z",
     "shell.execute_reply.started": "2023-10-15T15:32:51.676629Z"
    },
    "papermill": {
     "duration": 0.015123,
     "end_time": "2024-01-14T14:27:12.956399",
     "exception": false,
     "start_time": "2024-01-14T14:27:12.941276",
     "status": "completed"
    },
    "tags": []
   },
   "source": [
    "# Import neccessary libraries"
   ]
  },
  {
   "cell_type": "code",
   "execution_count": 1,
   "id": "d9036314",
   "metadata": {
    "execution": {
     "iopub.execute_input": "2024-01-14T14:27:12.989924Z",
     "iopub.status.busy": "2024-01-14T14:27:12.988841Z",
     "iopub.status.idle": "2024-01-14T14:27:16.767630Z",
     "shell.execute_reply": "2024-01-14T14:27:16.766213Z"
    },
    "papermill": {
     "duration": 3.799601,
     "end_time": "2024-01-14T14:27:16.770736",
     "exception": false,
     "start_time": "2024-01-14T14:27:12.971135",
     "status": "completed"
    },
    "tags": []
   },
   "outputs": [],
   "source": [
    "import pandas as pd\n",
    "import seaborn as sns\n",
    "import matplotlib.pyplot as plt\n",
    "import warnings\n",
    "warnings.filterwarnings(\"ignore\")\n",
    "from sklearn.preprocessing import OneHotEncoder\n",
    "from sklearn.model_selection import train_test_split\n",
    "from sklearn.tree import DecisionTreeClassifier\n",
    "from sklearn.model_selection import GridSearchCV"
   ]
  },
  {
   "cell_type": "code",
   "execution_count": 2,
   "id": "3d4e145c",
   "metadata": {
    "execution": {
     "iopub.execute_input": "2024-01-14T14:27:16.800132Z",
     "iopub.status.busy": "2024-01-14T14:27:16.798665Z",
     "iopub.status.idle": "2024-01-14T14:27:16.822121Z",
     "shell.execute_reply": "2024-01-14T14:27:16.820690Z"
    },
    "papermill": {
     "duration": 0.041099,
     "end_time": "2024-01-14T14:27:16.825229",
     "exception": false,
     "start_time": "2024-01-14T14:27:16.784130",
     "status": "completed"
    },
    "tags": []
   },
   "outputs": [],
   "source": [
    "df = pd.read_csv(\"/kaggle/input/frauddataset/fraud_dataset.csv\")"
   ]
  },
  {
   "cell_type": "markdown",
   "id": "874ca1a6",
   "metadata": {
    "papermill": {
     "duration": 0.013266,
     "end_time": "2024-01-14T14:27:16.851795",
     "exception": false,
     "start_time": "2024-01-14T14:27:16.838529",
     "status": "completed"
    },
    "tags": []
   },
   "source": [
    "# Understanding of the Dataset"
   ]
  },
  {
   "cell_type": "code",
   "execution_count": 3,
   "id": "583017f5",
   "metadata": {
    "execution": {
     "iopub.execute_input": "2024-01-14T14:27:16.880358Z",
     "iopub.status.busy": "2024-01-14T14:27:16.879652Z",
     "iopub.status.idle": "2024-01-14T14:27:16.907620Z",
     "shell.execute_reply": "2024-01-14T14:27:16.906256Z"
    },
    "papermill": {
     "duration": 0.04531,
     "end_time": "2024-01-14T14:27:16.910578",
     "exception": false,
     "start_time": "2024-01-14T14:27:16.865268",
     "status": "completed"
    },
    "tags": []
   },
   "outputs": [
    {
     "data": {
      "text/html": [
       "<div>\n",
       "<style scoped>\n",
       "    .dataframe tbody tr th:only-of-type {\n",
       "        vertical-align: middle;\n",
       "    }\n",
       "\n",
       "    .dataframe tbody tr th {\n",
       "        vertical-align: top;\n",
       "    }\n",
       "\n",
       "    .dataframe thead th {\n",
       "        text-align: right;\n",
       "    }\n",
       "</style>\n",
       "<table border=\"1\" class=\"dataframe\">\n",
       "  <thead>\n",
       "    <tr style=\"text-align: right;\">\n",
       "      <th></th>\n",
       "      <th>transaction_id</th>\n",
       "      <th>transaction_amount</th>\n",
       "      <th>location</th>\n",
       "      <th>merchant</th>\n",
       "      <th>age</th>\n",
       "      <th>gender</th>\n",
       "      <th>fraud_label</th>\n",
       "    </tr>\n",
       "  </thead>\n",
       "  <tbody>\n",
       "    <tr>\n",
       "      <th>0</th>\n",
       "      <td>1</td>\n",
       "      <td>1000.0</td>\n",
       "      <td>New York</td>\n",
       "      <td>ABC Corp</td>\n",
       "      <td>35</td>\n",
       "      <td>M</td>\n",
       "      <td>0</td>\n",
       "    </tr>\n",
       "    <tr>\n",
       "      <th>1</th>\n",
       "      <td>2</td>\n",
       "      <td>500.0</td>\n",
       "      <td>Chicago</td>\n",
       "      <td>XYZ Inc</td>\n",
       "      <td>45</td>\n",
       "      <td>F</td>\n",
       "      <td>0</td>\n",
       "    </tr>\n",
       "    <tr>\n",
       "      <th>2</th>\n",
       "      <td>3</td>\n",
       "      <td>2000.0</td>\n",
       "      <td>Los Angeles</td>\n",
       "      <td>ABC Corp</td>\n",
       "      <td>28</td>\n",
       "      <td>M</td>\n",
       "      <td>1</td>\n",
       "    </tr>\n",
       "    <tr>\n",
       "      <th>3</th>\n",
       "      <td>4</td>\n",
       "      <td>1500.0</td>\n",
       "      <td>San Francisco</td>\n",
       "      <td>XYZ Inc</td>\n",
       "      <td>30</td>\n",
       "      <td>F</td>\n",
       "      <td>0</td>\n",
       "    </tr>\n",
       "    <tr>\n",
       "      <th>4</th>\n",
       "      <td>5</td>\n",
       "      <td>800.0</td>\n",
       "      <td>Chicago</td>\n",
       "      <td>ABC Corp</td>\n",
       "      <td>50</td>\n",
       "      <td>F</td>\n",
       "      <td>0</td>\n",
       "    </tr>\n",
       "  </tbody>\n",
       "</table>\n",
       "</div>"
      ],
      "text/plain": [
       "   transaction_id  transaction_amount       location  merchant  age gender  \\\n",
       "0               1              1000.0       New York  ABC Corp   35      M   \n",
       "1               2               500.0        Chicago   XYZ Inc   45      F   \n",
       "2               3              2000.0    Los Angeles  ABC Corp   28      M   \n",
       "3               4              1500.0  San Francisco   XYZ Inc   30      F   \n",
       "4               5               800.0        Chicago  ABC Corp   50      F   \n",
       "\n",
       "   fraud_label  \n",
       "0            0  \n",
       "1            0  \n",
       "2            1  \n",
       "3            0  \n",
       "4            0  "
      ]
     },
     "execution_count": 3,
     "metadata": {},
     "output_type": "execute_result"
    }
   ],
   "source": [
    "df.head()"
   ]
  },
  {
   "cell_type": "code",
   "execution_count": 4,
   "id": "3c060eb8",
   "metadata": {
    "execution": {
     "iopub.execute_input": "2024-01-14T14:27:16.939644Z",
     "iopub.status.busy": "2024-01-14T14:27:16.939243Z",
     "iopub.status.idle": "2024-01-14T14:27:16.971810Z",
     "shell.execute_reply": "2024-01-14T14:27:16.970345Z"
    },
    "papermill": {
     "duration": 0.050613,
     "end_time": "2024-01-14T14:27:16.975023",
     "exception": false,
     "start_time": "2024-01-14T14:27:16.924410",
     "status": "completed"
    },
    "tags": []
   },
   "outputs": [
    {
     "data": {
      "text/html": [
       "<div>\n",
       "<style scoped>\n",
       "    .dataframe tbody tr th:only-of-type {\n",
       "        vertical-align: middle;\n",
       "    }\n",
       "\n",
       "    .dataframe tbody tr th {\n",
       "        vertical-align: top;\n",
       "    }\n",
       "\n",
       "    .dataframe thead th {\n",
       "        text-align: right;\n",
       "    }\n",
       "</style>\n",
       "<table border=\"1\" class=\"dataframe\">\n",
       "  <thead>\n",
       "    <tr style=\"text-align: right;\">\n",
       "      <th></th>\n",
       "      <th>transaction_id</th>\n",
       "      <th>transaction_amount</th>\n",
       "      <th>age</th>\n",
       "      <th>fraud_label</th>\n",
       "    </tr>\n",
       "  </thead>\n",
       "  <tbody>\n",
       "    <tr>\n",
       "      <th>count</th>\n",
       "      <td>86.000000</td>\n",
       "      <td>86.000000</td>\n",
       "      <td>86.000000</td>\n",
       "      <td>86.000000</td>\n",
       "    </tr>\n",
       "    <tr>\n",
       "      <th>mean</th>\n",
       "      <td>43.500000</td>\n",
       "      <td>1623.430233</td>\n",
       "      <td>40.081395</td>\n",
       "      <td>0.186047</td>\n",
       "    </tr>\n",
       "    <tr>\n",
       "      <th>std</th>\n",
       "      <td>24.969982</td>\n",
       "      <td>799.196016</td>\n",
       "      <td>8.829383</td>\n",
       "      <td>0.391427</td>\n",
       "    </tr>\n",
       "    <tr>\n",
       "      <th>min</th>\n",
       "      <td>1.000000</td>\n",
       "      <td>500.000000</td>\n",
       "      <td>26.000000</td>\n",
       "      <td>0.000000</td>\n",
       "    </tr>\n",
       "    <tr>\n",
       "      <th>25%</th>\n",
       "      <td>22.250000</td>\n",
       "      <td>950.000000</td>\n",
       "      <td>32.250000</td>\n",
       "      <td>0.000000</td>\n",
       "    </tr>\n",
       "    <tr>\n",
       "      <th>50%</th>\n",
       "      <td>43.500000</td>\n",
       "      <td>1375.000000</td>\n",
       "      <td>39.500000</td>\n",
       "      <td>0.000000</td>\n",
       "    </tr>\n",
       "    <tr>\n",
       "      <th>75%</th>\n",
       "      <td>64.750000</td>\n",
       "      <td>2000.000000</td>\n",
       "      <td>47.750000</td>\n",
       "      <td>0.000000</td>\n",
       "    </tr>\n",
       "    <tr>\n",
       "      <th>max</th>\n",
       "      <td>86.000000</td>\n",
       "      <td>4000.000000</td>\n",
       "      <td>56.000000</td>\n",
       "      <td>1.000000</td>\n",
       "    </tr>\n",
       "  </tbody>\n",
       "</table>\n",
       "</div>"
      ],
      "text/plain": [
       "       transaction_id  transaction_amount        age  fraud_label\n",
       "count       86.000000           86.000000  86.000000    86.000000\n",
       "mean        43.500000         1623.430233  40.081395     0.186047\n",
       "std         24.969982          799.196016   8.829383     0.391427\n",
       "min          1.000000          500.000000  26.000000     0.000000\n",
       "25%         22.250000          950.000000  32.250000     0.000000\n",
       "50%         43.500000         1375.000000  39.500000     0.000000\n",
       "75%         64.750000         2000.000000  47.750000     0.000000\n",
       "max         86.000000         4000.000000  56.000000     1.000000"
      ]
     },
     "execution_count": 4,
     "metadata": {},
     "output_type": "execute_result"
    }
   ],
   "source": [
    "df.describe()"
   ]
  },
  {
   "cell_type": "code",
   "execution_count": 5,
   "id": "177eb6de",
   "metadata": {
    "execution": {
     "iopub.execute_input": "2024-01-14T14:27:17.007253Z",
     "iopub.status.busy": "2024-01-14T14:27:17.006809Z",
     "iopub.status.idle": "2024-01-14T14:27:17.037163Z",
     "shell.execute_reply": "2024-01-14T14:27:17.035969Z"
    },
    "papermill": {
     "duration": 0.050828,
     "end_time": "2024-01-14T14:27:17.040201",
     "exception": false,
     "start_time": "2024-01-14T14:27:16.989373",
     "status": "completed"
    },
    "tags": []
   },
   "outputs": [
    {
     "name": "stdout",
     "output_type": "stream",
     "text": [
      "<class 'pandas.core.frame.DataFrame'>\n",
      "RangeIndex: 86 entries, 0 to 85\n",
      "Data columns (total 7 columns):\n",
      " #   Column              Non-Null Count  Dtype  \n",
      "---  ------              --------------  -----  \n",
      " 0   transaction_id      86 non-null     int64  \n",
      " 1   transaction_amount  86 non-null     float64\n",
      " 2   location            86 non-null     object \n",
      " 3   merchant            86 non-null     object \n",
      " 4   age                 86 non-null     int64  \n",
      " 5   gender              86 non-null     object \n",
      " 6   fraud_label         86 non-null     int64  \n",
      "dtypes: float64(1), int64(3), object(3)\n",
      "memory usage: 4.8+ KB\n"
     ]
    }
   ],
   "source": [
    "df.info()"
   ]
  },
  {
   "cell_type": "code",
   "execution_count": 6,
   "id": "3751538c",
   "metadata": {
    "execution": {
     "iopub.execute_input": "2024-01-14T14:27:17.070621Z",
     "iopub.status.busy": "2024-01-14T14:27:17.070200Z",
     "iopub.status.idle": "2024-01-14T14:27:17.079243Z",
     "shell.execute_reply": "2024-01-14T14:27:17.077919Z"
    },
    "papermill": {
     "duration": 0.028353,
     "end_time": "2024-01-14T14:27:17.082183",
     "exception": false,
     "start_time": "2024-01-14T14:27:17.053830",
     "status": "completed"
    },
    "tags": []
   },
   "outputs": [
    {
     "data": {
      "text/plain": [
       "fraud_label\n",
       "0    70\n",
       "1    16\n",
       "Name: count, dtype: int64"
      ]
     },
     "execution_count": 6,
     "metadata": {},
     "output_type": "execute_result"
    }
   ],
   "source": [
    "df.fraud_label.value_counts()"
   ]
  },
  {
   "cell_type": "markdown",
   "id": "8359f0e8",
   "metadata": {
    "papermill": {
     "duration": 0.014035,
     "end_time": "2024-01-14T14:27:17.110652",
     "exception": false,
     "start_time": "2024-01-14T14:27:17.096617",
     "status": "completed"
    },
    "tags": []
   },
   "source": [
    "# Feature Engineering"
   ]
  },
  {
   "cell_type": "code",
   "execution_count": 7,
   "id": "b28d9e3a",
   "metadata": {
    "execution": {
     "iopub.execute_input": "2024-01-14T14:27:17.141974Z",
     "iopub.status.busy": "2024-01-14T14:27:17.141461Z",
     "iopub.status.idle": "2024-01-14T14:27:17.147917Z",
     "shell.execute_reply": "2024-01-14T14:27:17.146049Z"
    },
    "papermill": {
     "duration": 0.026673,
     "end_time": "2024-01-14T14:27:17.151004",
     "exception": false,
     "start_time": "2024-01-14T14:27:17.124331",
     "status": "completed"
    },
    "tags": []
   },
   "outputs": [],
   "source": [
    "ohe = OneHotEncoder(sparse=False)"
   ]
  },
  {
   "cell_type": "code",
   "execution_count": 8,
   "id": "0492facd",
   "metadata": {
    "execution": {
     "iopub.execute_input": "2024-01-14T14:27:17.182945Z",
     "iopub.status.busy": "2024-01-14T14:27:17.182554Z",
     "iopub.status.idle": "2024-01-14T14:27:17.201213Z",
     "shell.execute_reply": "2024-01-14T14:27:17.199668Z"
    },
    "papermill": {
     "duration": 0.037533,
     "end_time": "2024-01-14T14:27:17.204105",
     "exception": false,
     "start_time": "2024-01-14T14:27:17.166572",
     "status": "completed"
    },
    "tags": []
   },
   "outputs": [
    {
     "data": {
      "text/plain": [
       "array(['merchant_ABC Corp', 'merchant_XYZ Inc'], dtype=object)"
      ]
     },
     "execution_count": 8,
     "metadata": {},
     "output_type": "execute_result"
    }
   ],
   "source": [
    "ohe.fit(df[['merchant']])\n",
    "ohe_merchant = ohe.transform(df[['merchant']])\n",
    "ohe.get_feature_names_out()"
   ]
  },
  {
   "cell_type": "code",
   "execution_count": 9,
   "id": "f4e4aa2f",
   "metadata": {
    "execution": {
     "iopub.execute_input": "2024-01-14T14:27:17.235591Z",
     "iopub.status.busy": "2024-01-14T14:27:17.235097Z",
     "iopub.status.idle": "2024-01-14T14:27:17.242483Z",
     "shell.execute_reply": "2024-01-14T14:27:17.241255Z"
    },
    "papermill": {
     "duration": 0.027227,
     "end_time": "2024-01-14T14:27:17.245861",
     "exception": false,
     "start_time": "2024-01-14T14:27:17.218634",
     "status": "completed"
    },
    "tags": []
   },
   "outputs": [],
   "source": [
    "df[ohe.get_feature_names_out()] = ohe_merchant"
   ]
  },
  {
   "cell_type": "code",
   "execution_count": 10,
   "id": "3cdbe23a",
   "metadata": {
    "execution": {
     "iopub.execute_input": "2024-01-14T14:27:17.276639Z",
     "iopub.status.busy": "2024-01-14T14:27:17.276227Z",
     "iopub.status.idle": "2024-01-14T14:27:17.289011Z",
     "shell.execute_reply": "2024-01-14T14:27:17.287690Z"
    },
    "papermill": {
     "duration": 0.031481,
     "end_time": "2024-01-14T14:27:17.291417",
     "exception": false,
     "start_time": "2024-01-14T14:27:17.259936",
     "status": "completed"
    },
    "tags": []
   },
   "outputs": [
    {
     "data": {
      "text/plain": [
       "array(['location_Chicago', 'location_Los Angeles', 'location_New York',\n",
       "       'location_San Francisco'], dtype=object)"
      ]
     },
     "execution_count": 10,
     "metadata": {},
     "output_type": "execute_result"
    }
   ],
   "source": [
    "ohe.fit(df[['location']])\n",
    "ohe_location = ohe.transform(df[['location']])\n",
    "ohe.get_feature_names_out()"
   ]
  },
  {
   "cell_type": "code",
   "execution_count": 11,
   "id": "0a37dca7",
   "metadata": {
    "execution": {
     "iopub.execute_input": "2024-01-14T14:27:17.322316Z",
     "iopub.status.busy": "2024-01-14T14:27:17.321922Z",
     "iopub.status.idle": "2024-01-14T14:27:17.328821Z",
     "shell.execute_reply": "2024-01-14T14:27:17.327498Z"
    },
    "papermill": {
     "duration": 0.025743,
     "end_time": "2024-01-14T14:27:17.331421",
     "exception": false,
     "start_time": "2024-01-14T14:27:17.305678",
     "status": "completed"
    },
    "tags": []
   },
   "outputs": [],
   "source": [
    "df[ohe.get_feature_names_out()] = ohe_location"
   ]
  },
  {
   "cell_type": "code",
   "execution_count": 12,
   "id": "0f7957b7",
   "metadata": {
    "execution": {
     "iopub.execute_input": "2024-01-14T14:27:17.364306Z",
     "iopub.status.busy": "2024-01-14T14:27:17.363847Z",
     "iopub.status.idle": "2024-01-14T14:27:17.376675Z",
     "shell.execute_reply": "2024-01-14T14:27:17.375320Z"
    },
    "papermill": {
     "duration": 0.034097,
     "end_time": "2024-01-14T14:27:17.379819",
     "exception": false,
     "start_time": "2024-01-14T14:27:17.345722",
     "status": "completed"
    },
    "tags": []
   },
   "outputs": [
    {
     "data": {
      "text/plain": [
       "array(['gender_F', 'gender_M'], dtype=object)"
      ]
     },
     "execution_count": 12,
     "metadata": {},
     "output_type": "execute_result"
    }
   ],
   "source": [
    "ohe.fit(df[['gender']])\n",
    "ohe_gender = ohe.transform(df[['gender']])\n",
    "ohe.get_feature_names_out()"
   ]
  },
  {
   "cell_type": "code",
   "execution_count": 13,
   "id": "1f422d3a",
   "metadata": {
    "execution": {
     "iopub.execute_input": "2024-01-14T14:27:17.411281Z",
     "iopub.status.busy": "2024-01-14T14:27:17.410857Z",
     "iopub.status.idle": "2024-01-14T14:27:17.417555Z",
     "shell.execute_reply": "2024-01-14T14:27:17.416279Z"
    },
    "papermill": {
     "duration": 0.025328,
     "end_time": "2024-01-14T14:27:17.420013",
     "exception": false,
     "start_time": "2024-01-14T14:27:17.394685",
     "status": "completed"
    },
    "tags": []
   },
   "outputs": [],
   "source": [
    "df[ohe.get_feature_names_out()] = ohe_gender"
   ]
  },
  {
   "cell_type": "code",
   "execution_count": 14,
   "id": "9a1ef778",
   "metadata": {
    "execution": {
     "iopub.execute_input": "2024-01-14T14:27:17.452644Z",
     "iopub.status.busy": "2024-01-14T14:27:17.452192Z",
     "iopub.status.idle": "2024-01-14T14:27:17.493914Z",
     "shell.execute_reply": "2024-01-14T14:27:17.492133Z"
    },
    "papermill": {
     "duration": 0.062875,
     "end_time": "2024-01-14T14:27:17.497049",
     "exception": false,
     "start_time": "2024-01-14T14:27:17.434174",
     "status": "completed"
    },
    "tags": []
   },
   "outputs": [
    {
     "data": {
      "text/html": [
       "<div>\n",
       "<style scoped>\n",
       "    .dataframe tbody tr th:only-of-type {\n",
       "        vertical-align: middle;\n",
       "    }\n",
       "\n",
       "    .dataframe tbody tr th {\n",
       "        vertical-align: top;\n",
       "    }\n",
       "\n",
       "    .dataframe thead th {\n",
       "        text-align: right;\n",
       "    }\n",
       "</style>\n",
       "<table border=\"1\" class=\"dataframe\">\n",
       "  <thead>\n",
       "    <tr style=\"text-align: right;\">\n",
       "      <th></th>\n",
       "      <th>transaction_id</th>\n",
       "      <th>transaction_amount</th>\n",
       "      <th>age</th>\n",
       "      <th>fraud_label</th>\n",
       "      <th>merchant_ABC Corp</th>\n",
       "      <th>merchant_XYZ Inc</th>\n",
       "      <th>location_Chicago</th>\n",
       "      <th>location_Los Angeles</th>\n",
       "      <th>location_New York</th>\n",
       "      <th>location_San Francisco</th>\n",
       "      <th>gender_F</th>\n",
       "      <th>gender_M</th>\n",
       "    </tr>\n",
       "  </thead>\n",
       "  <tbody>\n",
       "    <tr>\n",
       "      <th>0</th>\n",
       "      <td>1</td>\n",
       "      <td>1000.0</td>\n",
       "      <td>35</td>\n",
       "      <td>0</td>\n",
       "      <td>1.0</td>\n",
       "      <td>0.0</td>\n",
       "      <td>0.0</td>\n",
       "      <td>0.0</td>\n",
       "      <td>1.0</td>\n",
       "      <td>0.0</td>\n",
       "      <td>0.0</td>\n",
       "      <td>1.0</td>\n",
       "    </tr>\n",
       "    <tr>\n",
       "      <th>1</th>\n",
       "      <td>2</td>\n",
       "      <td>500.0</td>\n",
       "      <td>45</td>\n",
       "      <td>0</td>\n",
       "      <td>0.0</td>\n",
       "      <td>1.0</td>\n",
       "      <td>1.0</td>\n",
       "      <td>0.0</td>\n",
       "      <td>0.0</td>\n",
       "      <td>0.0</td>\n",
       "      <td>1.0</td>\n",
       "      <td>0.0</td>\n",
       "    </tr>\n",
       "    <tr>\n",
       "      <th>2</th>\n",
       "      <td>3</td>\n",
       "      <td>2000.0</td>\n",
       "      <td>28</td>\n",
       "      <td>1</td>\n",
       "      <td>1.0</td>\n",
       "      <td>0.0</td>\n",
       "      <td>0.0</td>\n",
       "      <td>1.0</td>\n",
       "      <td>0.0</td>\n",
       "      <td>0.0</td>\n",
       "      <td>0.0</td>\n",
       "      <td>1.0</td>\n",
       "    </tr>\n",
       "    <tr>\n",
       "      <th>3</th>\n",
       "      <td>4</td>\n",
       "      <td>1500.0</td>\n",
       "      <td>30</td>\n",
       "      <td>0</td>\n",
       "      <td>0.0</td>\n",
       "      <td>1.0</td>\n",
       "      <td>0.0</td>\n",
       "      <td>0.0</td>\n",
       "      <td>0.0</td>\n",
       "      <td>1.0</td>\n",
       "      <td>1.0</td>\n",
       "      <td>0.0</td>\n",
       "    </tr>\n",
       "    <tr>\n",
       "      <th>4</th>\n",
       "      <td>5</td>\n",
       "      <td>800.0</td>\n",
       "      <td>50</td>\n",
       "      <td>0</td>\n",
       "      <td>1.0</td>\n",
       "      <td>0.0</td>\n",
       "      <td>1.0</td>\n",
       "      <td>0.0</td>\n",
       "      <td>0.0</td>\n",
       "      <td>0.0</td>\n",
       "      <td>1.0</td>\n",
       "      <td>0.0</td>\n",
       "    </tr>\n",
       "    <tr>\n",
       "      <th>...</th>\n",
       "      <td>...</td>\n",
       "      <td>...</td>\n",
       "      <td>...</td>\n",
       "      <td>...</td>\n",
       "      <td>...</td>\n",
       "      <td>...</td>\n",
       "      <td>...</td>\n",
       "      <td>...</td>\n",
       "      <td>...</td>\n",
       "      <td>...</td>\n",
       "      <td>...</td>\n",
       "      <td>...</td>\n",
       "    </tr>\n",
       "    <tr>\n",
       "      <th>81</th>\n",
       "      <td>82</td>\n",
       "      <td>1500.0</td>\n",
       "      <td>31</td>\n",
       "      <td>0</td>\n",
       "      <td>0.0</td>\n",
       "      <td>1.0</td>\n",
       "      <td>0.0</td>\n",
       "      <td>1.0</td>\n",
       "      <td>0.0</td>\n",
       "      <td>0.0</td>\n",
       "      <td>0.0</td>\n",
       "      <td>1.0</td>\n",
       "    </tr>\n",
       "    <tr>\n",
       "      <th>82</th>\n",
       "      <td>83</td>\n",
       "      <td>2800.0</td>\n",
       "      <td>50</td>\n",
       "      <td>1</td>\n",
       "      <td>1.0</td>\n",
       "      <td>0.0</td>\n",
       "      <td>0.0</td>\n",
       "      <td>0.0</td>\n",
       "      <td>0.0</td>\n",
       "      <td>1.0</td>\n",
       "      <td>1.0</td>\n",
       "      <td>0.0</td>\n",
       "    </tr>\n",
       "    <tr>\n",
       "      <th>83</th>\n",
       "      <td>84</td>\n",
       "      <td>1350.0</td>\n",
       "      <td>28</td>\n",
       "      <td>0</td>\n",
       "      <td>0.0</td>\n",
       "      <td>1.0</td>\n",
       "      <td>1.0</td>\n",
       "      <td>0.0</td>\n",
       "      <td>0.0</td>\n",
       "      <td>0.0</td>\n",
       "      <td>0.0</td>\n",
       "      <td>1.0</td>\n",
       "    </tr>\n",
       "    <tr>\n",
       "      <th>84</th>\n",
       "      <td>85</td>\n",
       "      <td>920.0</td>\n",
       "      <td>47</td>\n",
       "      <td>0</td>\n",
       "      <td>1.0</td>\n",
       "      <td>0.0</td>\n",
       "      <td>0.0</td>\n",
       "      <td>0.0</td>\n",
       "      <td>1.0</td>\n",
       "      <td>0.0</td>\n",
       "      <td>1.0</td>\n",
       "      <td>0.0</td>\n",
       "    </tr>\n",
       "    <tr>\n",
       "      <th>85</th>\n",
       "      <td>86</td>\n",
       "      <td>2000.0</td>\n",
       "      <td>36</td>\n",
       "      <td>0</td>\n",
       "      <td>0.0</td>\n",
       "      <td>1.0</td>\n",
       "      <td>0.0</td>\n",
       "      <td>1.0</td>\n",
       "      <td>0.0</td>\n",
       "      <td>0.0</td>\n",
       "      <td>0.0</td>\n",
       "      <td>1.0</td>\n",
       "    </tr>\n",
       "  </tbody>\n",
       "</table>\n",
       "<p>86 rows × 12 columns</p>\n",
       "</div>"
      ],
      "text/plain": [
       "    transaction_id  transaction_amount  age  fraud_label  merchant_ABC Corp  \\\n",
       "0                1              1000.0   35            0                1.0   \n",
       "1                2               500.0   45            0                0.0   \n",
       "2                3              2000.0   28            1                1.0   \n",
       "3                4              1500.0   30            0                0.0   \n",
       "4                5               800.0   50            0                1.0   \n",
       "..             ...                 ...  ...          ...                ...   \n",
       "81              82              1500.0   31            0                0.0   \n",
       "82              83              2800.0   50            1                1.0   \n",
       "83              84              1350.0   28            0                0.0   \n",
       "84              85               920.0   47            0                1.0   \n",
       "85              86              2000.0   36            0                0.0   \n",
       "\n",
       "    merchant_XYZ Inc  location_Chicago  location_Los Angeles  \\\n",
       "0                0.0               0.0                   0.0   \n",
       "1                1.0               1.0                   0.0   \n",
       "2                0.0               0.0                   1.0   \n",
       "3                1.0               0.0                   0.0   \n",
       "4                0.0               1.0                   0.0   \n",
       "..               ...               ...                   ...   \n",
       "81               1.0               0.0                   1.0   \n",
       "82               0.0               0.0                   0.0   \n",
       "83               1.0               1.0                   0.0   \n",
       "84               0.0               0.0                   0.0   \n",
       "85               1.0               0.0                   1.0   \n",
       "\n",
       "    location_New York  location_San Francisco  gender_F  gender_M  \n",
       "0                 1.0                     0.0       0.0       1.0  \n",
       "1                 0.0                     0.0       1.0       0.0  \n",
       "2                 0.0                     0.0       0.0       1.0  \n",
       "3                 0.0                     1.0       1.0       0.0  \n",
       "4                 0.0                     0.0       1.0       0.0  \n",
       "..                ...                     ...       ...       ...  \n",
       "81                0.0                     0.0       0.0       1.0  \n",
       "82                0.0                     1.0       1.0       0.0  \n",
       "83                0.0                     0.0       0.0       1.0  \n",
       "84                1.0                     0.0       1.0       0.0  \n",
       "85                0.0                     0.0       0.0       1.0  \n",
       "\n",
       "[86 rows x 12 columns]"
      ]
     },
     "execution_count": 14,
     "metadata": {},
     "output_type": "execute_result"
    }
   ],
   "source": [
    "df_learn = df.loc[:,~df.columns.isin(['location', 'merchant','gender'])]\n",
    "df_learn"
   ]
  },
  {
   "cell_type": "code",
   "execution_count": 15,
   "id": "6a2cbacd",
   "metadata": {
    "execution": {
     "iopub.execute_input": "2024-01-14T14:27:17.529452Z",
     "iopub.status.busy": "2024-01-14T14:27:17.529037Z",
     "iopub.status.idle": "2024-01-14T14:27:17.537874Z",
     "shell.execute_reply": "2024-01-14T14:27:17.536440Z"
    },
    "papermill": {
     "duration": 0.028331,
     "end_time": "2024-01-14T14:27:17.540920",
     "exception": false,
     "start_time": "2024-01-14T14:27:17.512589",
     "status": "completed"
    },
    "tags": []
   },
   "outputs": [],
   "source": [
    "correlation = df_learn.corr()"
   ]
  },
  {
   "cell_type": "code",
   "execution_count": 16,
   "id": "7a89db9d",
   "metadata": {
    "execution": {
     "iopub.execute_input": "2024-01-14T14:27:17.574301Z",
     "iopub.status.busy": "2024-01-14T14:27:17.573748Z",
     "iopub.status.idle": "2024-01-14T14:27:18.201367Z",
     "shell.execute_reply": "2024-01-14T14:27:18.200096Z"
    },
    "papermill": {
     "duration": 0.648842,
     "end_time": "2024-01-14T14:27:18.204606",
     "exception": false,
     "start_time": "2024-01-14T14:27:17.555764",
     "status": "completed"
    },
    "tags": []
   },
   "outputs": [
    {
     "data": {
      "text/plain": [
       "<Axes: >"
      ]
     },
     "execution_count": 16,
     "metadata": {},
     "output_type": "execute_result"
    },
    {
     "data": {
      "image/png": "[encoded data removed]",
      "text/plain": [
       "<Figure size 640x480 with 2 Axes>"
      ]
     },
     "metadata": {},
     "output_type": "display_data"
    }
   ],
   "source": [
    "sns.heatmap(correlation)"
   ]
  },
  {
   "cell_type": "code",
   "execution_count": 17,
   "id": "960f3688",
   "metadata": {
    "execution": {
     "iopub.execute_input": "2024-01-14T14:27:18.308006Z",
     "iopub.status.busy": "2024-01-14T14:27:18.306558Z",
     "iopub.status.idle": "2024-01-14T14:27:18.314548Z",
     "shell.execute_reply": "2024-01-14T14:27:18.313681Z"
    },
    "papermill": {
     "duration": 0.030002,
     "end_time": "2024-01-14T14:27:18.317234",
     "exception": false,
     "start_time": "2024-01-14T14:27:18.287232",
     "status": "completed"
    },
    "tags": []
   },
   "outputs": [],
   "source": [
    "x = df_learn.drop(['fraud_label'], axis=1)\n",
    "y = df_learn['fraud_label']"
   ]
  },
  {
   "cell_type": "markdown",
   "id": "2f2a74f7",
   "metadata": {
    "papermill": {
     "duration": 0.015891,
     "end_time": "2024-01-14T14:27:18.349526",
     "exception": false,
     "start_time": "2024-01-14T14:27:18.333635",
     "status": "completed"
    },
    "tags": []
   },
   "source": [
    "# Balancing the samples"
   ]
  },
  {
   "cell_type": "code",
   "execution_count": 18,
   "id": "4f48d0a7",
   "metadata": {
    "execution": {
     "iopub.execute_input": "2024-01-14T14:27:18.386714Z",
     "iopub.status.busy": "2024-01-14T14:27:18.385391Z",
     "iopub.status.idle": "2024-01-14T14:27:18.785467Z",
     "shell.execute_reply": "2024-01-14T14:27:18.783925Z"
    },
    "papermill": {
     "duration": 0.422158,
     "end_time": "2024-01-14T14:27:18.788653",
     "exception": false,
     "start_time": "2024-01-14T14:27:18.366495",
     "status": "completed"
    },
    "tags": []
   },
   "outputs": [],
   "source": [
    "from imblearn.under_sampling import RandomUnderSampler"
   ]
  },
  {
   "cell_type": "code",
   "execution_count": 19,
   "id": "9e5bba23",
   "metadata": {
    "execution": {
     "iopub.execute_input": "2024-01-14T14:27:18.824003Z",
     "iopub.status.busy": "2024-01-14T14:27:18.823352Z",
     "iopub.status.idle": "2024-01-14T14:27:18.839319Z",
     "shell.execute_reply": "2024-01-14T14:27:18.838168Z"
    },
    "papermill": {
     "duration": 0.036256,
     "end_time": "2024-01-14T14:27:18.841779",
     "exception": false,
     "start_time": "2024-01-14T14:27:18.805523",
     "status": "completed"
    },
    "tags": []
   },
   "outputs": [
    {
     "name": "stdout",
     "output_type": "stream",
     "text": [
      "Original dataset shape Counter({0: 70, 1: 16})\n",
      "Resampled dataset shape Counter({0: 16, 1: 16})\n"
     ]
    }
   ],
   "source": [
    "under_sampler = RandomUnderSampler()\n",
    "x_res, y_res = under_sampler.fit_resample(x, y)\n",
    "\n",
    "x_res.shape,y_res.shape\n",
    "\n",
    "from collections import Counter \n",
    "print('Original dataset shape {}'.format(Counter(y))) \n",
    "print('Resampled dataset shape {}'.format(Counter(y_res)))\n"
   ]
  },
  {
   "cell_type": "markdown",
   "id": "13f6f38b",
   "metadata": {
    "papermill": {
     "duration": 0.015851,
     "end_time": "2024-01-14T14:27:18.874118",
     "exception": false,
     "start_time": "2024-01-14T14:27:18.858267",
     "status": "completed"
    },
    "tags": []
   },
   "source": []
  },
  {
   "cell_type": "code",
   "execution_count": 20,
   "id": "49ae71a4",
   "metadata": {
    "execution": {
     "iopub.execute_input": "2024-01-14T14:27:18.909623Z",
     "iopub.status.busy": "2024-01-14T14:27:18.908762Z",
     "iopub.status.idle": "2024-01-14T14:27:18.916252Z",
     "shell.execute_reply": "2024-01-14T14:27:18.915309Z"
    },
    "papermill": {
     "duration": 0.028104,
     "end_time": "2024-01-14T14:27:18.918930",
     "exception": false,
     "start_time": "2024-01-14T14:27:18.890826",
     "status": "completed"
    },
    "tags": []
   },
   "outputs": [],
   "source": [
    "x_train,x_test,y_train,y_test=train_test_split(x_res, y_res, test_size=0.2, random_state=42)"
   ]
  },
  {
   "cell_type": "code",
   "execution_count": 21,
   "id": "9de8d0c2",
   "metadata": {
    "execution": {
     "iopub.execute_input": "2024-01-14T14:27:18.955147Z",
     "iopub.status.busy": "2024-01-14T14:27:18.953756Z",
     "iopub.status.idle": "2024-01-14T14:27:18.960763Z",
     "shell.execute_reply": "2024-01-14T14:27:18.959385Z"
    },
    "papermill": {
     "duration": 0.028243,
     "end_time": "2024-01-14T14:27:18.963490",
     "exception": false,
     "start_time": "2024-01-14T14:27:18.935247",
     "status": "completed"
    },
    "tags": []
   },
   "outputs": [
    {
     "name": "stdout",
     "output_type": "stream",
     "text": [
      "(25, 11)\n",
      "(25,)\n"
     ]
    }
   ],
   "source": [
    "print(x_train.shape) \n",
    "print(y_train.shape)"
   ]
  },
  {
   "cell_type": "markdown",
   "id": "74cc6c93",
   "metadata": {
    "papermill": {
     "duration": 0.015709,
     "end_time": "2024-01-14T14:27:18.995613",
     "exception": false,
     "start_time": "2024-01-14T14:27:18.979904",
     "status": "completed"
    },
    "tags": []
   },
   "source": [
    "# Implementing Decision Tree"
   ]
  },
  {
   "cell_type": "code",
   "execution_count": 22,
   "id": "5cb2750e",
   "metadata": {
    "execution": {
     "iopub.execute_input": "2024-01-14T14:27:19.030857Z",
     "iopub.status.busy": "2024-01-14T14:27:19.029543Z",
     "iopub.status.idle": "2024-01-14T14:27:19.049566Z",
     "shell.execute_reply": "2024-01-14T14:27:19.047911Z"
    },
    "papermill": {
     "duration": 0.041187,
     "end_time": "2024-01-14T14:27:19.053057",
     "exception": false,
     "start_time": "2024-01-14T14:27:19.011870",
     "status": "completed"
    },
    "tags": []
   },
   "outputs": [
    {
     "data": {
      "text/html": [
       "<style>#sk-container-id-1 {color: black;background-color: white;}#sk-container-id-1 pre{padding: 0;}#sk-container-id-1 div.sk-toggleable {background-color: white;}#sk-container-id-1 label.sk-toggleable__label {cursor: pointer;display: block;width: 100%;margin-bottom: 0;padding: 0.3em;box-sizing: border-box;text-align: center;}#sk-container-id-1 label.sk-toggleable__label-arrow:before {content: \"▸\";float: left;margin-right: 0.25em;color: #696969;}#sk-container-id-1 label.sk-toggleable__label-arrow:hover:before {color: black;}#sk-container-id-1 div.sk-estimator:hover label.sk-toggleable__label-arrow:before {color: black;}#sk-container-id-1 div.sk-toggleable__content {max-height: 0;max-width: 0;overflow: hidden;text-align: left;background-color: #f0f8ff;}#sk-container-id-1 div.sk-toggleable__content pre {margin: 0.2em;color: black;border-radius: 0.25em;background-color: #f0f8ff;}#sk-container-id-1 input.sk-toggleable__control:checked~div.sk-toggleable__content {max-height: 200px;max-width: 100%;overflow: auto;}#sk-container-id-1 input.sk-toggleable__control:checked~label.sk-toggleable__label-arrow:before {content: \"▾\";}#sk-container-id-1 div.sk-estimator input.sk-toggleable__control:checked~label.sk-toggleable__label {background-color: #d4ebff;}#sk-container-id-1 div.sk-label input.sk-toggleable__control:checked~label.sk-toggleable__label {background-color: #d4ebff;}#sk-container-id-1 input.sk-hidden--visually {border: 0;clip: rect(1px 1px 1px 1px);clip: rect(1px, 1px, 1px, 1px);height: 1px;margin: -1px;overflow: hidden;padding: 0;position: absolute;width: 1px;}#sk-container-id-1 div.sk-estimator {font-family: monospace;background-color: #f0f8ff;border: 1px dotted black;border-radius: 0.25em;box-sizing: border-box;margin-bottom: 0.5em;}#sk-container-id-1 div.sk-estimator:hover {background-color: #d4ebff;}#sk-container-id-1 div.sk-parallel-item::after {content: \"\";width: 100%;border-bottom: 1px solid gray;flex-grow: 1;}#sk-container-id-1 div.sk-label:hover label.sk-toggleable__label {background-color: #d4ebff;}#sk-container-id-1 div.sk-serial::before {content: \"\";position: absolute;border-left: 1px solid gray;box-sizing: border-box;top: 0;bottom: 0;left: 50%;z-index: 0;}#sk-container-id-1 div.sk-serial {display: flex;flex-direction: column;align-items: center;background-color: white;padding-right: 0.2em;padding-left: 0.2em;position: relative;}#sk-container-id-1 div.sk-item {position: relative;z-index: 1;}#sk-container-id-1 div.sk-parallel {display: flex;align-items: stretch;justify-content: center;background-color: white;position: relative;}#sk-container-id-1 div.sk-item::before, #sk-container-id-1 div.sk-parallel-item::before {content: \"\";position: absolute;border-left: 1px solid gray;box-sizing: border-box;top: 0;bottom: 0;left: 50%;z-index: -1;}#sk-container-id-1 div.sk-parallel-item {display: flex;flex-direction: column;z-index: 1;position: relative;background-color: white;}#sk-container-id-1 div.sk-parallel-item:first-child::after {align-self: flex-end;width: 50%;}#sk-container-id-1 div.sk-parallel-item:last-child::after {align-self: flex-start;width: 50%;}#sk-container-id-1 div.sk-parallel-item:only-child::after {width: 0;}#sk-container-id-1 div.sk-dashed-wrapped {border: 1px dashed gray;margin: 0 0.4em 0.5em 0.4em;box-sizing: border-box;padding-bottom: 0.4em;background-color: white;}#sk-container-id-1 div.sk-label label {font-family: monospace;font-weight: bold;display: inline-block;line-height: 1.2em;}#sk-container-id-1 div.sk-label-container {text-align: center;}#sk-container-id-1 div.sk-container {/* jupyter's `normalize.less` sets `[hidden] { display: none; }` but bootstrap.min.css set `[hidden] { display: none !important; }` so we also need the `!important` here to be able to override the default hidden behavior on the sphinx rendered scikit-learn.org. See: https://github.com/scikit-learn/scikit-learn/issues/21755 */display: inline-block !important;position: relative;}#sk-container-id-1 div.sk-text-repr-fallback {display: none;}</style><div id=\"sk-container-id-1\" class=\"sk-top-container\"><div class=\"sk-text-repr-fallback\"><pre>DecisionTreeClassifier()</pre><b>In a Jupyter environment, please rerun this cell to show the HTML representation or trust the notebook. <br />On GitHub, the HTML representation is unable to render, please try loading this page with nbviewer.org.</b></div><div class=\"sk-container\" hidden><div class=\"sk-item\"><div class=\"sk-estimator sk-toggleable\"><input class=\"sk-toggleable__control sk-hidden--visually\" id=\"sk-estimator-id-1\" type=\"checkbox\" checked><label for=\"sk-estimator-id-1\" class=\"sk-toggleable__label sk-toggleable__label-arrow\">DecisionTreeClassifier</label><div class=\"sk-toggleable__content\"><pre>DecisionTreeClassifier()</pre></div></div></div></div></div>"
      ],
      "text/plain": [
       "DecisionTreeClassifier()"
      ]
     },
     "execution_count": 22,
     "metadata": {},
     "output_type": "execute_result"
    }
   ],
   "source": [
    "clf = DecisionTreeClassifier()\n",
    "clf.fit(x_train, y_train)"
   ]
  },
  {
   "cell_type": "code",
   "execution_count": 23,
   "id": "37e90d87",
   "metadata": {
    "execution": {
     "iopub.execute_input": "2024-01-14T14:27:19.090337Z",
     "iopub.status.busy": "2024-01-14T14:27:19.089941Z",
     "iopub.status.idle": "2024-01-14T14:27:19.101023Z",
     "shell.execute_reply": "2024-01-14T14:27:19.099807Z"
    },
    "papermill": {
     "duration": 0.033048,
     "end_time": "2024-01-14T14:27:19.103785",
     "exception": false,
     "start_time": "2024-01-14T14:27:19.070737",
     "status": "completed"
    },
    "tags": []
   },
   "outputs": [],
   "source": [
    "predicted_train = clf.predict(x_train)\n",
    "predicted_test = clf.predict(x_test)"
   ]
  },
  {
   "cell_type": "code",
   "execution_count": 24,
   "id": "f9befeba",
   "metadata": {
    "execution": {
     "iopub.execute_input": "2024-01-14T14:27:19.139160Z",
     "iopub.status.busy": "2024-01-14T14:27:19.138575Z",
     "iopub.status.idle": "2024-01-14T14:27:19.147289Z",
     "shell.execute_reply": "2024-01-14T14:27:19.145803Z"
    },
    "papermill": {
     "duration": 0.029737,
     "end_time": "2024-01-14T14:27:19.150219",
     "exception": false,
     "start_time": "2024-01-14T14:27:19.120482",
     "status": "completed"
    },
    "tags": []
   },
   "outputs": [
    {
     "data": {
      "text/plain": [
       "array([1, 0, 0, 0, 1, 0, 0, 0, 1, 0, 0, 1, 0, 1, 1, 1, 1, 1, 1, 0, 0, 0,\n",
       "       1, 1, 0])"
      ]
     },
     "execution_count": 24,
     "metadata": {},
     "output_type": "execute_result"
    }
   ],
   "source": [
    "predicted_train"
   ]
  },
  {
   "cell_type": "code",
   "execution_count": 25,
   "id": "9977d620",
   "metadata": {
    "execution": {
     "iopub.execute_input": "2024-01-14T14:27:19.186442Z",
     "iopub.status.busy": "2024-01-14T14:27:19.186050Z",
     "iopub.status.idle": "2024-01-14T14:27:19.193686Z",
     "shell.execute_reply": "2024-01-14T14:27:19.192451Z"
    },
    "papermill": {
     "duration": 0.028452,
     "end_time": "2024-01-14T14:27:19.196028",
     "exception": false,
     "start_time": "2024-01-14T14:27:19.167576",
     "status": "completed"
    },
    "tags": []
   },
   "outputs": [
    {
     "data": {
      "text/plain": [
       "array([1, 0, 1, 1, 0, 0, 1])"
      ]
     },
     "execution_count": 25,
     "metadata": {},
     "output_type": "execute_result"
    }
   ],
   "source": [
    "predicted_test"
   ]
  },
  {
   "cell_type": "markdown",
   "id": "50c58841",
   "metadata": {
    "papermill": {
     "duration": 0.01841,
     "end_time": "2024-01-14T14:27:19.231212",
     "exception": false,
     "start_time": "2024-01-14T14:27:19.212802",
     "status": "completed"
    },
    "tags": []
   },
   "source": [
    "# Checking feature importances"
   ]
  },
  {
   "cell_type": "code",
   "execution_count": 26,
   "id": "145f4ed2",
   "metadata": {
    "execution": {
     "iopub.execute_input": "2024-01-14T14:27:19.267044Z",
     "iopub.status.busy": "2024-01-14T14:27:19.266578Z",
     "iopub.status.idle": "2024-01-14T14:27:19.275115Z",
     "shell.execute_reply": "2024-01-14T14:27:19.273467Z"
    },
    "papermill": {
     "duration": 0.029628,
     "end_time": "2024-01-14T14:27:19.277804",
     "exception": false,
     "start_time": "2024-01-14T14:27:19.248176",
     "status": "completed"
    },
    "tags": []
   },
   "outputs": [
    {
     "data": {
      "text/plain": [
       "array([0.        , 0.85207101, 0.14792899, 0.        , 0.        ,\n",
       "       0.        , 0.        , 0.        , 0.        , 0.        ,\n",
       "       0.        ])"
      ]
     },
     "execution_count": 26,
     "metadata": {},
     "output_type": "execute_result"
    }
   ],
   "source": [
    "clf.feature_importances_"
   ]
  },
  {
   "cell_type": "code",
   "execution_count": 27,
   "id": "5f5ccca6",
   "metadata": {
    "execution": {
     "iopub.execute_input": "2024-01-14T14:27:19.315415Z",
     "iopub.status.busy": "2024-01-14T14:27:19.314964Z",
     "iopub.status.idle": "2024-01-14T14:27:19.323034Z",
     "shell.execute_reply": "2024-01-14T14:27:19.322157Z"
    },
    "papermill": {
     "duration": 0.030099,
     "end_time": "2024-01-14T14:27:19.325477",
     "exception": false,
     "start_time": "2024-01-14T14:27:19.295378",
     "status": "completed"
    },
    "tags": []
   },
   "outputs": [
    {
     "data": {
      "text/plain": [
       "[('transaction_id', 0.0),\n",
       " ('transaction_amount', 0.8520710059171598),\n",
       " ('age', 0.1479289940828402),\n",
       " ('merchant_ABC Corp', 0.0),\n",
       " ('merchant_XYZ Inc', 0.0),\n",
       " ('location_Chicago', 0.0),\n",
       " ('location_Los Angeles', 0.0),\n",
       " ('location_New York', 0.0),\n",
       " ('location_San Francisco', 0.0),\n",
       " ('gender_F', 0.0),\n",
       " ('gender_M', 0.0)]"
      ]
     },
     "execution_count": 27,
     "metadata": {},
     "output_type": "execute_result"
    }
   ],
   "source": [
    "f_imp_list = list(zip(x_train.columns, clf.feature_importances_))\n",
    "f_imp_list"
   ]
  },
  {
   "cell_type": "code",
   "execution_count": 28,
   "id": "a00e90ec",
   "metadata": {
    "execution": {
     "iopub.execute_input": "2024-01-14T14:27:19.363073Z",
     "iopub.status.busy": "2024-01-14T14:27:19.362590Z",
     "iopub.status.idle": "2024-01-14T14:27:19.371127Z",
     "shell.execute_reply": "2024-01-14T14:27:19.370125Z"
    },
    "papermill": {
     "duration": 0.029927,
     "end_time": "2024-01-14T14:27:19.373627",
     "exception": false,
     "start_time": "2024-01-14T14:27:19.343700",
     "status": "completed"
    },
    "tags": []
   },
   "outputs": [
    {
     "data": {
      "text/plain": [
       "[('transaction_amount', 0.8520710059171598),\n",
       " ('age', 0.1479289940828402),\n",
       " ('merchant_XYZ Inc', 0.0),\n",
       " ('location_Los Angeles', 0.0),\n",
       " ('location_San Francisco', 0.0),\n",
       " ('gender_M', 0.0)]"
      ]
     },
     "execution_count": 28,
     "metadata": {},
     "output_type": "execute_result"
    }
   ],
   "source": [
    "for tup in f_imp_list:\n",
    "    if tup[1] == 0.0:\n",
    "        f_imp_list.remove(tup)\n",
    "f_imp_list"
   ]
  },
  {
   "cell_type": "code",
   "execution_count": 29,
   "id": "577eeb01",
   "metadata": {
    "execution": {
     "iopub.execute_input": "2024-01-14T14:27:19.412474Z",
     "iopub.status.busy": "2024-01-14T14:27:19.411815Z",
     "iopub.status.idle": "2024-01-14T14:27:19.419548Z",
     "shell.execute_reply": "2024-01-14T14:27:19.418529Z"
    },
    "papermill": {
     "duration": 0.030261,
     "end_time": "2024-01-14T14:27:19.422058",
     "exception": false,
     "start_time": "2024-01-14T14:27:19.391797",
     "status": "completed"
    },
    "tags": []
   },
   "outputs": [
    {
     "data": {
      "text/plain": [
       "['transaction_amount',\n",
       " 'age',\n",
       " 'merchant_XYZ Inc',\n",
       " 'location_Los Angeles',\n",
       " 'location_San Francisco',\n",
       " 'gender_M']"
      ]
     },
     "execution_count": 29,
     "metadata": {},
     "output_type": "execute_result"
    }
   ],
   "source": [
    "new_f_columns = [f_imp_list[i][0] for i in range(len(f_imp_list))]\n",
    "new_f_columns"
   ]
  },
  {
   "cell_type": "code",
   "execution_count": 30,
   "id": "d8d824b6",
   "metadata": {
    "execution": {
     "iopub.execute_input": "2024-01-14T14:27:19.463394Z",
     "iopub.status.busy": "2024-01-14T14:27:19.462931Z",
     "iopub.status.idle": "2024-01-14T14:27:19.487559Z",
     "shell.execute_reply": "2024-01-14T14:27:19.486352Z"
    },
    "papermill": {
     "duration": 0.049674,
     "end_time": "2024-01-14T14:27:19.490405",
     "exception": false,
     "start_time": "2024-01-14T14:27:19.440731",
     "status": "completed"
    },
    "tags": []
   },
   "outputs": [
    {
     "data": {
      "text/html": [
       "<div>\n",
       "<style scoped>\n",
       "    .dataframe tbody tr th:only-of-type {\n",
       "        vertical-align: middle;\n",
       "    }\n",
       "\n",
       "    .dataframe tbody tr th {\n",
       "        vertical-align: top;\n",
       "    }\n",
       "\n",
       "    .dataframe thead th {\n",
       "        text-align: right;\n",
       "    }\n",
       "</style>\n",
       "<table border=\"1\" class=\"dataframe\">\n",
       "  <thead>\n",
       "    <tr style=\"text-align: right;\">\n",
       "      <th></th>\n",
       "      <th>transaction_amount</th>\n",
       "      <th>age</th>\n",
       "      <th>merchant_XYZ Inc</th>\n",
       "      <th>location_Los Angeles</th>\n",
       "      <th>location_San Francisco</th>\n",
       "      <th>gender_M</th>\n",
       "    </tr>\n",
       "  </thead>\n",
       "  <tbody>\n",
       "    <tr>\n",
       "      <th>0</th>\n",
       "      <td>1000.0</td>\n",
       "      <td>35</td>\n",
       "      <td>0.0</td>\n",
       "      <td>0.0</td>\n",
       "      <td>0.0</td>\n",
       "      <td>1.0</td>\n",
       "    </tr>\n",
       "    <tr>\n",
       "      <th>1</th>\n",
       "      <td>500.0</td>\n",
       "      <td>45</td>\n",
       "      <td>1.0</td>\n",
       "      <td>0.0</td>\n",
       "      <td>0.0</td>\n",
       "      <td>0.0</td>\n",
       "    </tr>\n",
       "    <tr>\n",
       "      <th>2</th>\n",
       "      <td>2000.0</td>\n",
       "      <td>28</td>\n",
       "      <td>0.0</td>\n",
       "      <td>1.0</td>\n",
       "      <td>0.0</td>\n",
       "      <td>1.0</td>\n",
       "    </tr>\n",
       "    <tr>\n",
       "      <th>3</th>\n",
       "      <td>1500.0</td>\n",
       "      <td>30</td>\n",
       "      <td>1.0</td>\n",
       "      <td>0.0</td>\n",
       "      <td>1.0</td>\n",
       "      <td>0.0</td>\n",
       "    </tr>\n",
       "    <tr>\n",
       "      <th>4</th>\n",
       "      <td>800.0</td>\n",
       "      <td>50</td>\n",
       "      <td>0.0</td>\n",
       "      <td>0.0</td>\n",
       "      <td>0.0</td>\n",
       "      <td>0.0</td>\n",
       "    </tr>\n",
       "    <tr>\n",
       "      <th>...</th>\n",
       "      <td>...</td>\n",
       "      <td>...</td>\n",
       "      <td>...</td>\n",
       "      <td>...</td>\n",
       "      <td>...</td>\n",
       "      <td>...</td>\n",
       "    </tr>\n",
       "    <tr>\n",
       "      <th>81</th>\n",
       "      <td>1500.0</td>\n",
       "      <td>31</td>\n",
       "      <td>1.0</td>\n",
       "      <td>1.0</td>\n",
       "      <td>0.0</td>\n",
       "      <td>1.0</td>\n",
       "    </tr>\n",
       "    <tr>\n",
       "      <th>82</th>\n",
       "      <td>2800.0</td>\n",
       "      <td>50</td>\n",
       "      <td>0.0</td>\n",
       "      <td>0.0</td>\n",
       "      <td>1.0</td>\n",
       "      <td>0.0</td>\n",
       "    </tr>\n",
       "    <tr>\n",
       "      <th>83</th>\n",
       "      <td>1350.0</td>\n",
       "      <td>28</td>\n",
       "      <td>1.0</td>\n",
       "      <td>0.0</td>\n",
       "      <td>0.0</td>\n",
       "      <td>1.0</td>\n",
       "    </tr>\n",
       "    <tr>\n",
       "      <th>84</th>\n",
       "      <td>920.0</td>\n",
       "      <td>47</td>\n",
       "      <td>0.0</td>\n",
       "      <td>0.0</td>\n",
       "      <td>0.0</td>\n",
       "      <td>0.0</td>\n",
       "    </tr>\n",
       "    <tr>\n",
       "      <th>85</th>\n",
       "      <td>2000.0</td>\n",
       "      <td>36</td>\n",
       "      <td>1.0</td>\n",
       "      <td>1.0</td>\n",
       "      <td>0.0</td>\n",
       "      <td>1.0</td>\n",
       "    </tr>\n",
       "  </tbody>\n",
       "</table>\n",
       "<p>86 rows × 6 columns</p>\n",
       "</div>"
      ],
      "text/plain": [
       "    transaction_amount  age  merchant_XYZ Inc  location_Los Angeles  \\\n",
       "0               1000.0   35               0.0                   0.0   \n",
       "1                500.0   45               1.0                   0.0   \n",
       "2               2000.0   28               0.0                   1.0   \n",
       "3               1500.0   30               1.0                   0.0   \n",
       "4                800.0   50               0.0                   0.0   \n",
       "..                 ...  ...               ...                   ...   \n",
       "81              1500.0   31               1.0                   1.0   \n",
       "82              2800.0   50               0.0                   0.0   \n",
       "83              1350.0   28               1.0                   0.0   \n",
       "84               920.0   47               0.0                   0.0   \n",
       "85              2000.0   36               1.0                   1.0   \n",
       "\n",
       "    location_San Francisco  gender_M  \n",
       "0                      0.0       1.0  \n",
       "1                      0.0       0.0  \n",
       "2                      0.0       1.0  \n",
       "3                      1.0       0.0  \n",
       "4                      0.0       0.0  \n",
       "..                     ...       ...  \n",
       "81                     0.0       1.0  \n",
       "82                     1.0       0.0  \n",
       "83                     0.0       1.0  \n",
       "84                     0.0       0.0  \n",
       "85                     0.0       1.0  \n",
       "\n",
       "[86 rows x 6 columns]"
      ]
     },
     "execution_count": 30,
     "metadata": {},
     "output_type": "execute_result"
    }
   ],
   "source": [
    "df_learn_new = df_learn[new_f_columns].copy()\n",
    "df_learn_new"
   ]
  },
  {
   "cell_type": "markdown",
   "id": "0c164607",
   "metadata": {
    "papermill": {
     "duration": 0.018272,
     "end_time": "2024-01-14T14:27:19.528052",
     "exception": false,
     "start_time": "2024-01-14T14:27:19.509780",
     "status": "completed"
    },
    "tags": []
   },
   "source": [
    "# Using Grid Search to find better Hyperparameters"
   ]
  },
  {
   "cell_type": "code",
   "execution_count": 31,
   "id": "8bf1fcb1",
   "metadata": {
    "execution": {
     "iopub.execute_input": "2024-01-14T14:27:19.566365Z",
     "iopub.status.busy": "2024-01-14T14:27:19.565828Z",
     "iopub.status.idle": "2024-01-14T14:27:19.571894Z",
     "shell.execute_reply": "2024-01-14T14:27:19.570584Z"
    },
    "papermill": {
     "duration": 0.028525,
     "end_time": "2024-01-14T14:27:19.574655",
     "exception": false,
     "start_time": "2024-01-14T14:27:19.546130",
     "status": "completed"
    },
    "tags": []
   },
   "outputs": [],
   "source": [
    "param_grid = {\n",
    "    'criterion' : ['gini', 'entropy'],\n",
    "    'max_depth': list(range(2, 10, 1)),\n",
    "    'min_samples_leaf': list(range(1, 10))\n",
    "}"
   ]
  },
  {
   "cell_type": "code",
   "execution_count": 32,
   "id": "6708fd64",
   "metadata": {
    "execution": {
     "iopub.execute_input": "2024-01-14T14:27:19.615736Z",
     "iopub.status.busy": "2024-01-14T14:27:19.615296Z",
     "iopub.status.idle": "2024-01-14T14:27:19.620405Z",
     "shell.execute_reply": "2024-01-14T14:27:19.619387Z"
    },
    "papermill": {
     "duration": 0.027559,
     "end_time": "2024-01-14T14:27:19.622708",
     "exception": false,
     "start_time": "2024-01-14T14:27:19.595149",
     "status": "completed"
    },
    "tags": []
   },
   "outputs": [],
   "source": [
    "grid_search = GridSearchCV(\n",
    "    estimator=clf,\n",
    "    param_grid=param_grid,\n",
    "    scoring='accuracy',\n",
    "    verbose=1,\n",
    "    n_jobs=-1,\n",
    "    error_score='raise'\n",
    ")"
   ]
  },
  {
   "cell_type": "code",
   "execution_count": 33,
   "id": "21b26d88",
   "metadata": {
    "execution": {
     "iopub.execute_input": "2024-01-14T14:27:19.662119Z",
     "iopub.status.busy": "2024-01-14T14:27:19.661334Z",
     "iopub.status.idle": "2024-01-14T14:27:23.888100Z",
     "shell.execute_reply": "2024-01-14T14:27:23.886606Z"
    },
    "papermill": {
     "duration": 4.249832,
     "end_time": "2024-01-14T14:27:23.891492",
     "exception": false,
     "start_time": "2024-01-14T14:27:19.641660",
     "status": "completed"
    },
    "tags": []
   },
   "outputs": [
    {
     "name": "stdout",
     "output_type": "stream",
     "text": [
      "Fitting 5 folds for each of 144 candidates, totalling 720 fits\n"
     ]
    },
    {
     "data": {
      "text/html": [
       "<style>#sk-container-id-2 {color: black;background-color: white;}#sk-container-id-2 pre{padding: 0;}#sk-container-id-2 div.sk-toggleable {background-color: white;}#sk-container-id-2 label.sk-toggleable__label {cursor: pointer;display: block;width: 100%;margin-bottom: 0;padding: 0.3em;box-sizing: border-box;text-align: center;}#sk-container-id-2 label.sk-toggleable__label-arrow:before {content: \"▸\";float: left;margin-right: 0.25em;color: #696969;}#sk-container-id-2 label.sk-toggleable__label-arrow:hover:before {color: black;}#sk-container-id-2 div.sk-estimator:hover label.sk-toggleable__label-arrow:before {color: black;}#sk-container-id-2 div.sk-toggleable__content {max-height: 0;max-width: 0;overflow: hidden;text-align: left;background-color: #f0f8ff;}#sk-container-id-2 div.sk-toggleable__content pre {margin: 0.2em;color: black;border-radius: 0.25em;background-color: #f0f8ff;}#sk-container-id-2 input.sk-toggleable__control:checked~div.sk-toggleable__content {max-height: 200px;max-width: 100%;overflow: auto;}#sk-container-id-2 input.sk-toggleable__control:checked~label.sk-toggleable__label-arrow:before {content: \"▾\";}#sk-container-id-2 div.sk-estimator input.sk-toggleable__control:checked~label.sk-toggleable__label {background-color: #d4ebff;}#sk-container-id-2 div.sk-label input.sk-toggleable__control:checked~label.sk-toggleable__label {background-color: #d4ebff;}#sk-container-id-2 input.sk-hidden--visually {border: 0;clip: rect(1px 1px 1px 1px);clip: rect(1px, 1px, 1px, 1px);height: 1px;margin: -1px;overflow: hidden;padding: 0;position: absolute;width: 1px;}#sk-container-id-2 div.sk-estimator {font-family: monospace;background-color: #f0f8ff;border: 1px dotted black;border-radius: 0.25em;box-sizing: border-box;margin-bottom: 0.5em;}#sk-container-id-2 div.sk-estimator:hover {background-color: #d4ebff;}#sk-container-id-2 div.sk-parallel-item::after {content: \"\";width: 100%;border-bottom: 1px solid gray;flex-grow: 1;}#sk-container-id-2 div.sk-label:hover label.sk-toggleable__label {background-color: #d4ebff;}#sk-container-id-2 div.sk-serial::before {content: \"\";position: absolute;border-left: 1px solid gray;box-sizing: border-box;top: 0;bottom: 0;left: 50%;z-index: 0;}#sk-container-id-2 div.sk-serial {display: flex;flex-direction: column;align-items: center;background-color: white;padding-right: 0.2em;padding-left: 0.2em;position: relative;}#sk-container-id-2 div.sk-item {position: relative;z-index: 1;}#sk-container-id-2 div.sk-parallel {display: flex;align-items: stretch;justify-content: center;background-color: white;position: relative;}#sk-container-id-2 div.sk-item::before, #sk-container-id-2 div.sk-parallel-item::before {content: \"\";position: absolute;border-left: 1px solid gray;box-sizing: border-box;top: 0;bottom: 0;left: 50%;z-index: -1;}#sk-container-id-2 div.sk-parallel-item {display: flex;flex-direction: column;z-index: 1;position: relative;background-color: white;}#sk-container-id-2 div.sk-parallel-item:first-child::after {align-self: flex-end;width: 50%;}#sk-container-id-2 div.sk-parallel-item:last-child::after {align-self: flex-start;width: 50%;}#sk-container-id-2 div.sk-parallel-item:only-child::after {width: 0;}#sk-container-id-2 div.sk-dashed-wrapped {border: 1px dashed gray;margin: 0 0.4em 0.5em 0.4em;box-sizing: border-box;padding-bottom: 0.4em;background-color: white;}#sk-container-id-2 div.sk-label label {font-family: monospace;font-weight: bold;display: inline-block;line-height: 1.2em;}#sk-container-id-2 div.sk-label-container {text-align: center;}#sk-container-id-2 div.sk-container {/* jupyter's `normalize.less` sets `[hidden] { display: none; }` but bootstrap.min.css set `[hidden] { display: none !important; }` so we also need the `!important` here to be able to override the default hidden behavior on the sphinx rendered scikit-learn.org. See: https://github.com/scikit-learn/scikit-learn/issues/21755 */display: inline-block !important;position: relative;}#sk-container-id-2 div.sk-text-repr-fallback {display: none;}</style><div id=\"sk-container-id-2\" class=\"sk-top-container\"><div class=\"sk-text-repr-fallback\"><pre>GridSearchCV(error_score=&#x27;raise&#x27;, estimator=DecisionTreeClassifier(), n_jobs=-1,\n",
       "             param_grid={&#x27;criterion&#x27;: [&#x27;gini&#x27;, &#x27;entropy&#x27;],\n",
       "                         &#x27;max_depth&#x27;: [2, 3, 4, 5, 6, 7, 8, 9],\n",
       "                         &#x27;min_samples_leaf&#x27;: [1, 2, 3, 4, 5, 6, 7, 8, 9]},\n",
       "             scoring=&#x27;accuracy&#x27;, verbose=1)</pre><b>In a Jupyter environment, please rerun this cell to show the HTML representation or trust the notebook. <br />On GitHub, the HTML representation is unable to render, please try loading this page with nbviewer.org.</b></div><div class=\"sk-container\" hidden><div class=\"sk-item sk-dashed-wrapped\"><div class=\"sk-label-container\"><div class=\"sk-label sk-toggleable\"><input class=\"sk-toggleable__control sk-hidden--visually\" id=\"sk-estimator-id-2\" type=\"checkbox\" ><label for=\"sk-estimator-id-2\" class=\"sk-toggleable__label sk-toggleable__label-arrow\">GridSearchCV</label><div class=\"sk-toggleable__content\"><pre>GridSearchCV(error_score=&#x27;raise&#x27;, estimator=DecisionTreeClassifier(), n_jobs=-1,\n",
       "             param_grid={&#x27;criterion&#x27;: [&#x27;gini&#x27;, &#x27;entropy&#x27;],\n",
       "                         &#x27;max_depth&#x27;: [2, 3, 4, 5, 6, 7, 8, 9],\n",
       "                         &#x27;min_samples_leaf&#x27;: [1, 2, 3, 4, 5, 6, 7, 8, 9]},\n",
       "             scoring=&#x27;accuracy&#x27;, verbose=1)</pre></div></div></div><div class=\"sk-parallel\"><div class=\"sk-parallel-item\"><div class=\"sk-item\"><div class=\"sk-label-container\"><div class=\"sk-label sk-toggleable\"><input class=\"sk-toggleable__control sk-hidden--visually\" id=\"sk-estimator-id-3\" type=\"checkbox\" ><label for=\"sk-estimator-id-3\" class=\"sk-toggleable__label sk-toggleable__label-arrow\">estimator: DecisionTreeClassifier</label><div class=\"sk-toggleable__content\"><pre>DecisionTreeClassifier()</pre></div></div></div><div class=\"sk-serial\"><div class=\"sk-item\"><div class=\"sk-estimator sk-toggleable\"><input class=\"sk-toggleable__control sk-hidden--visually\" id=\"sk-estimator-id-4\" type=\"checkbox\" ><label for=\"sk-estimator-id-4\" class=\"sk-toggleable__label sk-toggleable__label-arrow\">DecisionTreeClassifier</label><div class=\"sk-toggleable__content\"><pre>DecisionTreeClassifier()</pre></div></div></div></div></div></div></div></div></div></div>"
      ],
      "text/plain": [
       "GridSearchCV(error_score='raise', estimator=DecisionTreeClassifier(), n_jobs=-1,\n",
       "             param_grid={'criterion': ['gini', 'entropy'],\n",
       "                         'max_depth': [2, 3, 4, 5, 6, 7, 8, 9],\n",
       "                         'min_samples_leaf': [1, 2, 3, 4, 5, 6, 7, 8, 9]},\n",
       "             scoring='accuracy', verbose=1)"
      ]
     },
     "execution_count": 33,
     "metadata": {},
     "output_type": "execute_result"
    }
   ],
   "source": [
    "grid_search.fit(x_train, y_train) "
   ]
  },
  {
   "cell_type": "code",
   "execution_count": 34,
   "id": "0397fb09",
   "metadata": {
    "execution": {
     "iopub.execute_input": "2024-01-14T14:27:23.936849Z",
     "iopub.status.busy": "2024-01-14T14:27:23.936041Z",
     "iopub.status.idle": "2024-01-14T14:27:23.944152Z",
     "shell.execute_reply": "2024-01-14T14:27:23.942969Z"
    },
    "papermill": {
     "duration": 0.035472,
     "end_time": "2024-01-14T14:27:23.946797",
     "exception": false,
     "start_time": "2024-01-14T14:27:23.911325",
     "status": "completed"
    },
    "tags": []
   },
   "outputs": [
    {
     "name": "stdout",
     "output_type": "stream",
     "text": [
      "{'criterion': 'gini', 'max_depth': 2, 'min_samples_leaf': 3}\n"
     ]
    }
   ],
   "source": [
    "best_params = grid_search.best_params_\n",
    "print(best_params)"
   ]
  }
 ],
 "metadata": {
  "kaggle": {
   "accelerator": "none",
   "dataSources": [
    {
     "datasetId": 3650114,
     "sourceId": 6339987,
     "sourceType": "datasetVersion"
    }
   ],
   "dockerImageVersionId": 30558,
   "isGpuEnabled": false,
   "isInternetEnabled": false,
   "language": "python",
   "sourceType": "notebook"
  },
  "kernelspec": {
   "display_name": "Python 3",
   "language": "python",
   "name": "python3"
  },
  "language_info": {
   "codemirror_mode": {
    "name": "ipython",
    "version": 3
   },
   "file_extension": ".py",
   "mimetype": "text/x-python",
   "name": "python",
   "nbconvert_exporter": "python",
   "pygments_lexer": "ipython3",
   "version": "3.10.12"
  },
  "papermill": {
   "default_parameters": {},
   "duration": 18.592312,
   "end_time": "2024-01-14T14:27:26.588800",
   "environment_variables": {},
   "exception": null,
   "input_path": "__notebook__.ipynb",
   "output_path": "__notebook__.ipynb",
   "parameters": {},
   "start_time": "2024-01-14T14:27:07.996488",
   "version": "2.4.0"
  }
 },
 "nbformat": 4,
 "nbformat_minor": 5
}
